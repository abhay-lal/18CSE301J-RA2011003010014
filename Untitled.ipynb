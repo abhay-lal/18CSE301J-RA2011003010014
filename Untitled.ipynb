{
 "cells": [
  {
   "cell_type": "code",
   "execution_count": 2,
   "id": "6aa34555",
   "metadata": {},
   "outputs": [
    {
     "data": {
      "application/vnd.plotly.v1+json": {
       "config": {
        "plotlyServerURL": "https://plot.ly"
       },
       "data": [
        {
         "hovertemplate": "State/UT=Andhra Pradesh<br>2017=%{x}<br>2016=%{y}<extra></extra>",
         "legendgroup": "Andhra Pradesh",
         "marker": {
          "color": "#1F77B4",
          "line": {
           "color": "DarkSlateGrey",
           "width": 1
          },
          "size": 16,
          "symbol": "circle"
         },
         "mode": "markers",
         "name": "Andhra Pradesh",
         "orientation": "v",
         "showlegend": true,
         "type": "scatter",
         "x": [
          931
         ],
         "xaxis": "x",
         "y": [
          616
         ],
         "yaxis": "y"
        },
        {
         "alignmentgroup": "True",
         "hovertemplate": "State/UT=Andhra Pradesh<br>2017=%{x}<extra></extra>",
         "legendgroup": "Andhra Pradesh",
         "marker": {
          "color": "#1F77B4",
          "symbol": "circle"
         },
         "name": "Andhra Pradesh",
         "notched": true,
         "offsetgroup": "Andhra Pradesh",
         "showlegend": false,
         "type": "box",
         "x": [
          931
         ],
         "xaxis": "x3",
         "yaxis": "y3"
        },
        {
         "alignmentgroup": "True",
         "hovertemplate": "State/UT=Andhra Pradesh<br>2016=%{y}<extra></extra>",
         "legendgroup": "Andhra Pradesh",
         "marker": {
          "color": "#1F77B4",
          "symbol": "circle"
         },
         "name": "Andhra Pradesh",
         "offsetgroup": "Andhra Pradesh",
         "scalegroup": "y",
         "showlegend": false,
         "type": "violin",
         "xaxis": "x2",
         "y": [
          616
         ],
         "yaxis": "y2"
        },
        {
         "hovertemplate": "State/UT=Andhra Pradesh<extra></extra>",
         "legendgroup": "Andhra Pradesh",
         "marker": {
          "color": "#1F77B4",
          "symbol": "circle"
         },
         "mode": "lines",
         "name": "Andhra Pradesh",
         "showlegend": false,
         "type": "scatter",
         "xaxis": "x",
         "yaxis": "y"
        },
        {
         "hovertemplate": "State/UT=Arunachal Pradesh<br>2017=%{x}<br>2016=%{y}<extra></extra>",
         "legendgroup": "Arunachal Pradesh",
         "marker": {
          "color": "#FF7F0E",
          "line": {
           "color": "DarkSlateGrey",
           "width": 1
          },
          "size": 16,
          "symbol": "circle"
         },
         "mode": "markers",
         "name": "Arunachal Pradesh",
         "orientation": "v",
         "showlegend": true,
         "type": "scatter",
         "x": [
          1
         ],
         "xaxis": "x",
         "y": [
          4
         ],
         "yaxis": "y"
        },
        {
         "alignmentgroup": "True",
         "hovertemplate": "State/UT=Arunachal Pradesh<br>2017=%{x}<extra></extra>",
         "legendgroup": "Arunachal Pradesh",
         "marker": {
          "color": "#FF7F0E",
          "symbol": "circle"
         },
         "name": "Arunachal Pradesh",
         "notched": true,
         "offsetgroup": "Arunachal Pradesh",
         "showlegend": false,
         "type": "box",
         "x": [
          1
         ],
         "xaxis": "x3",
         "yaxis": "y3"
        },
        {
         "alignmentgroup": "True",
         "hovertemplate": "State/UT=Arunachal Pradesh<br>2016=%{y}<extra></extra>",
         "legendgroup": "Arunachal Pradesh",
         "marker": {
          "color": "#FF7F0E",
          "symbol": "circle"
         },
         "name": "Arunachal Pradesh",
         "offsetgroup": "Arunachal Pradesh",
         "scalegroup": "y",
         "showlegend": false,
         "type": "violin",
         "xaxis": "x2",
         "y": [
          4
         ],
         "yaxis": "y2"
        },
        {
         "hovertemplate": "State/UT=Arunachal Pradesh<extra></extra>",
         "legendgroup": "Arunachal Pradesh",
         "marker": {
          "color": "#FF7F0E",
          "symbol": "circle"
         },
         "mode": "lines",
         "name": "Arunachal Pradesh",
         "showlegend": false,
         "type": "scatter",
         "xaxis": "x",
         "yaxis": "y"
        },
        {
         "hovertemplate": "State/UT=Assam<br>2017=%{x}<br>2016=%{y}<extra></extra>",
         "legendgroup": "Assam",
         "marker": {
          "color": "#2CA02C",
          "line": {
           "color": "DarkSlateGrey",
           "width": 1
          },
          "size": 16,
          "symbol": "circle"
         },
         "mode": "markers",
         "name": "Assam",
         "orientation": "v",
         "showlegend": true,
         "type": "scatter",
         "x": [
          1120
         ],
         "xaxis": "x",
         "y": [
          696
         ],
         "yaxis": "y"
        },
        {
         "alignmentgroup": "True",
         "hovertemplate": "State/UT=Assam<br>2017=%{x}<extra></extra>",
         "legendgroup": "Assam",
         "marker": {
          "color": "#2CA02C",
          "symbol": "circle"
         },
         "name": "Assam",
         "notched": true,
         "offsetgroup": "Assam",
         "showlegend": false,
         "type": "box",
         "x": [
          1120
         ],
         "xaxis": "x3",
         "yaxis": "y3"
        },
        {
         "alignmentgroup": "True",
         "hovertemplate": "State/UT=Assam<br>2016=%{y}<extra></extra>",
         "legendgroup": "Assam",
         "marker": {
          "color": "#2CA02C",
          "symbol": "circle"
         },
         "name": "Assam",
         "offsetgroup": "Assam",
         "scalegroup": "y",
         "showlegend": false,
         "type": "violin",
         "xaxis": "x2",
         "y": [
          696
         ],
         "yaxis": "y2"
        },
        {
         "hovertemplate": "State/UT=Assam<extra></extra>",
         "legendgroup": "Assam",
         "marker": {
          "color": "#2CA02C",
          "symbol": "circle"
         },
         "mode": "lines",
         "name": "Assam",
         "showlegend": false,
         "type": "scatter",
         "xaxis": "x",
         "yaxis": "y"
        },
        {
         "hovertemplate": "State/UT=Bihar<br>2017=%{x}<br>2016=%{y}<extra></extra>",
         "legendgroup": "Bihar",
         "marker": {
          "color": "#D62728",
          "line": {
           "color": "DarkSlateGrey",
           "width": 1
          },
          "size": 16,
          "symbol": "circle"
         },
         "mode": "markers",
         "name": "Bihar",
         "orientation": "v",
         "showlegend": true,
         "type": "scatter",
         "x": [
          433
         ],
         "xaxis": "x",
         "y": [
          309
         ],
         "yaxis": "y"
        },
        {
         "alignmentgroup": "True",
         "hovertemplate": "State/UT=Bihar<br>2017=%{x}<extra></extra>",
         "legendgroup": "Bihar",
         "marker": {
          "color": "#D62728",
          "symbol": "circle"
         },
         "name": "Bihar",
         "notched": true,
         "offsetgroup": "Bihar",
         "showlegend": false,
         "type": "box",
         "x": [
          433
         ],
         "xaxis": "x3",
         "yaxis": "y3"
        },
        {
         "alignmentgroup": "True",
         "hovertemplate": "State/UT=Bihar<br>2016=%{y}<extra></extra>",
         "legendgroup": "Bihar",
         "marker": {
          "color": "#D62728",
          "symbol": "circle"
         },
         "name": "Bihar",
         "offsetgroup": "Bihar",
         "scalegroup": "y",
         "showlegend": false,
         "type": "violin",
         "xaxis": "x2",
         "y": [
          309
         ],
         "yaxis": "y2"
        },
        {
         "hovertemplate": "State/UT=Bihar<extra></extra>",
         "legendgroup": "Bihar",
         "marker": {
          "color": "#D62728",
          "symbol": "circle"
         },
         "mode": "lines",
         "name": "Bihar",
         "showlegend": false,
         "type": "scatter",
         "xaxis": "x",
         "yaxis": "y"
        },
        {
         "hovertemplate": "State/UT=Chhattisgarh<br>2017=%{x}<br>2016=%{y}<extra></extra>",
         "legendgroup": "Chhattisgarh",
         "marker": {
          "color": "#9467BD",
          "line": {
           "color": "DarkSlateGrey",
           "width": 1
          },
          "size": 16,
          "symbol": "circle"
         },
         "mode": "markers",
         "name": "Chhattisgarh",
         "orientation": "v",
         "showlegend": true,
         "type": "scatter",
         "x": [
          171
         ],
         "xaxis": "x",
         "y": [
          90
         ],
         "yaxis": "y"
        },
        {
         "alignmentgroup": "True",
         "hovertemplate": "State/UT=Chhattisgarh<br>2017=%{x}<extra></extra>",
         "legendgroup": "Chhattisgarh",
         "marker": {
          "color": "#9467BD",
          "symbol": "circle"
         },
         "name": "Chhattisgarh",
         "notched": true,
         "offsetgroup": "Chhattisgarh",
         "showlegend": false,
         "type": "box",
         "x": [
          171
         ],
         "xaxis": "x3",
         "yaxis": "y3"
        },
        {
         "alignmentgroup": "True",
         "hovertemplate": "State/UT=Chhattisgarh<br>2016=%{y}<extra></extra>",
         "legendgroup": "Chhattisgarh",
         "marker": {
          "color": "#9467BD",
          "symbol": "circle"
         },
         "name": "Chhattisgarh",
         "offsetgroup": "Chhattisgarh",
         "scalegroup": "y",
         "showlegend": false,
         "type": "violin",
         "xaxis": "x2",
         "y": [
          90
         ],
         "yaxis": "y2"
        },
        {
         "hovertemplate": "State/UT=Chhattisgarh<extra></extra>",
         "legendgroup": "Chhattisgarh",
         "marker": {
          "color": "#9467BD",
          "symbol": "circle"
         },
         "mode": "lines",
         "name": "Chhattisgarh",
         "showlegend": false,
         "type": "scatter",
         "xaxis": "x",
         "yaxis": "y"
        },
        {
         "hovertemplate": "State/UT=Goa<br>2017=%{x}<br>2016=%{y}<extra></extra>",
         "legendgroup": "Goa",
         "marker": {
          "color": "#8C564B",
          "line": {
           "color": "DarkSlateGrey",
           "width": 1
          },
          "size": 16,
          "symbol": "circle"
         },
         "mode": "markers",
         "name": "Goa",
         "orientation": "v",
         "showlegend": true,
         "type": "scatter",
         "x": [
          13
         ],
         "xaxis": "x",
         "y": [
          31
         ],
         "yaxis": "y"
        },
        {
         "alignmentgroup": "True",
         "hovertemplate": "State/UT=Goa<br>2017=%{x}<extra></extra>",
         "legendgroup": "Goa",
         "marker": {
          "color": "#8C564B",
          "symbol": "circle"
         },
         "name": "Goa",
         "notched": true,
         "offsetgroup": "Goa",
         "showlegend": false,
         "type": "box",
         "x": [
          13
         ],
         "xaxis": "x3",
         "yaxis": "y3"
        },
        {
         "alignmentgroup": "True",
         "hovertemplate": "State/UT=Goa<br>2016=%{y}<extra></extra>",
         "legendgroup": "Goa",
         "marker": {
          "color": "#8C564B",
          "symbol": "circle"
         },
         "name": "Goa",
         "offsetgroup": "Goa",
         "scalegroup": "y",
         "showlegend": false,
         "type": "violin",
         "xaxis": "x2",
         "y": [
          31
         ],
         "yaxis": "y2"
        },
        {
         "hovertemplate": "State/UT=Goa<extra></extra>",
         "legendgroup": "Goa",
         "marker": {
          "color": "#8C564B",
          "symbol": "circle"
         },
         "mode": "lines",
         "name": "Goa",
         "showlegend": false,
         "type": "scatter",
         "xaxis": "x",
         "yaxis": "y"
        },
        {
         "hovertemplate": "State/UT=Gujarat<br>2017=%{x}<br>2016=%{y}<extra></extra>",
         "legendgroup": "Gujarat",
         "marker": {
          "color": "#E377C2",
          "line": {
           "color": "DarkSlateGrey",
           "width": 1
          },
          "size": 16,
          "symbol": "circle"
         },
         "mode": "markers",
         "name": "Gujarat",
         "orientation": "v",
         "showlegend": true,
         "type": "scatter",
         "x": [
          458
         ],
         "xaxis": "x",
         "y": [
          362
         ],
         "yaxis": "y"
        },
        {
         "alignmentgroup": "True",
         "hovertemplate": "State/UT=Gujarat<br>2017=%{x}<extra></extra>",
         "legendgroup": "Gujarat",
         "marker": {
          "color": "#E377C2",
          "symbol": "circle"
         },
         "name": "Gujarat",
         "notched": true,
         "offsetgroup": "Gujarat",
         "showlegend": false,
         "type": "box",
         "x": [
          458
         ],
         "xaxis": "x3",
         "yaxis": "y3"
        },
        {
         "alignmentgroup": "True",
         "hovertemplate": "State/UT=Gujarat<br>2016=%{y}<extra></extra>",
         "legendgroup": "Gujarat",
         "marker": {
          "color": "#E377C2",
          "symbol": "circle"
         },
         "name": "Gujarat",
         "offsetgroup": "Gujarat",
         "scalegroup": "y",
         "showlegend": false,
         "type": "violin",
         "xaxis": "x2",
         "y": [
          362
         ],
         "yaxis": "y2"
        },
        {
         "hovertemplate": "State/UT=Gujarat<extra></extra>",
         "legendgroup": "Gujarat",
         "marker": {
          "color": "#E377C2",
          "symbol": "circle"
         },
         "mode": "lines",
         "name": "Gujarat",
         "showlegend": false,
         "type": "scatter",
         "xaxis": "x",
         "yaxis": "y"
        },
        {
         "hovertemplate": "State/UT=Haryana<br>2017=%{x}<br>2016=%{y}<extra></extra>",
         "legendgroup": "Haryana",
         "marker": {
          "color": "#7F7F7F",
          "line": {
           "color": "DarkSlateGrey",
           "width": 1
          },
          "size": 16,
          "symbol": "circle"
         },
         "mode": "markers",
         "name": "Haryana",
         "orientation": "v",
         "showlegend": true,
         "type": "scatter",
         "x": [
          504
         ],
         "xaxis": "x",
         "y": [
          401
         ],
         "yaxis": "y"
        },
        {
         "alignmentgroup": "True",
         "hovertemplate": "State/UT=Haryana<br>2017=%{x}<extra></extra>",
         "legendgroup": "Haryana",
         "marker": {
          "color": "#7F7F7F",
          "symbol": "circle"
         },
         "name": "Haryana",
         "notched": true,
         "offsetgroup": "Haryana",
         "showlegend": false,
         "type": "box",
         "x": [
          504
         ],
         "xaxis": "x3",
         "yaxis": "y3"
        },
        {
         "alignmentgroup": "True",
         "hovertemplate": "State/UT=Haryana<br>2016=%{y}<extra></extra>",
         "legendgroup": "Haryana",
         "marker": {
          "color": "#7F7F7F",
          "symbol": "circle"
         },
         "name": "Haryana",
         "offsetgroup": "Haryana",
         "scalegroup": "y",
         "showlegend": false,
         "type": "violin",
         "xaxis": "x2",
         "y": [
          401
         ],
         "yaxis": "y2"
        },
        {
         "hovertemplate": "State/UT=Haryana<extra></extra>",
         "legendgroup": "Haryana",
         "marker": {
          "color": "#7F7F7F",
          "symbol": "circle"
         },
         "mode": "lines",
         "name": "Haryana",
         "showlegend": false,
         "type": "scatter",
         "xaxis": "x",
         "yaxis": "y"
        },
        {
         "hovertemplate": "State/UT=Himachal Pradesh<br>2017=%{x}<br>2016=%{y}<extra></extra>",
         "legendgroup": "Himachal Pradesh",
         "marker": {
          "color": "#BCBD22",
          "line": {
           "color": "DarkSlateGrey",
           "width": 1
          },
          "size": 16,
          "symbol": "circle"
         },
         "mode": "markers",
         "name": "Himachal Pradesh",
         "orientation": "v",
         "showlegend": true,
         "type": "scatter",
         "x": [
          56
         ],
         "xaxis": "x",
         "y": [
          31
         ],
         "yaxis": "y"
        },
        {
         "alignmentgroup": "True",
         "hovertemplate": "State/UT=Himachal Pradesh<br>2017=%{x}<extra></extra>",
         "legendgroup": "Himachal Pradesh",
         "marker": {
          "color": "#BCBD22",
          "symbol": "circle"
         },
         "name": "Himachal Pradesh",
         "notched": true,
         "offsetgroup": "Himachal Pradesh",
         "showlegend": false,
         "type": "box",
         "x": [
          56
         ],
         "xaxis": "x3",
         "yaxis": "y3"
        },
        {
         "alignmentgroup": "True",
         "hovertemplate": "State/UT=Himachal Pradesh<br>2016=%{y}<extra></extra>",
         "legendgroup": "Himachal Pradesh",
         "marker": {
          "color": "#BCBD22",
          "symbol": "circle"
         },
         "name": "Himachal Pradesh",
         "offsetgroup": "Himachal Pradesh",
         "scalegroup": "y",
         "showlegend": false,
         "type": "violin",
         "xaxis": "x2",
         "y": [
          31
         ],
         "yaxis": "y2"
        },
        {
         "hovertemplate": "State/UT=Himachal Pradesh<extra></extra>",
         "legendgroup": "Himachal Pradesh",
         "marker": {
          "color": "#BCBD22",
          "symbol": "circle"
         },
         "mode": "lines",
         "name": "Himachal Pradesh",
         "showlegend": false,
         "type": "scatter",
         "xaxis": "x",
         "yaxis": "y"
        },
        {
         "hovertemplate": "State/UT=Jammu & Kashmir<br>2017=%{x}<br>2016=%{y}<extra></extra>",
         "legendgroup": "Jammu & Kashmir",
         "marker": {
          "color": "#17BECF",
          "line": {
           "color": "DarkSlateGrey",
           "width": 1
          },
          "size": 16,
          "symbol": "circle"
         },
         "mode": "markers",
         "name": "Jammu & Kashmir",
         "orientation": "v",
         "showlegend": true,
         "type": "scatter",
         "x": [
          63
         ],
         "xaxis": "x",
         "y": [
          28
         ],
         "yaxis": "y"
        },
        {
         "alignmentgroup": "True",
         "hovertemplate": "State/UT=Jammu & Kashmir<br>2017=%{x}<extra></extra>",
         "legendgroup": "Jammu & Kashmir",
         "marker": {
          "color": "#17BECF",
          "symbol": "circle"
         },
         "name": "Jammu & Kashmir",
         "notched": true,
         "offsetgroup": "Jammu & Kashmir",
         "showlegend": false,
         "type": "box",
         "x": [
          63
         ],
         "xaxis": "x3",
         "yaxis": "y3"
        },
        {
         "alignmentgroup": "True",
         "hovertemplate": "State/UT=Jammu & Kashmir<br>2016=%{y}<extra></extra>",
         "legendgroup": "Jammu & Kashmir",
         "marker": {
          "color": "#17BECF",
          "symbol": "circle"
         },
         "name": "Jammu & Kashmir",
         "offsetgroup": "Jammu & Kashmir",
         "scalegroup": "y",
         "showlegend": false,
         "type": "violin",
         "xaxis": "x2",
         "y": [
          28
         ],
         "yaxis": "y2"
        },
        {
         "hovertemplate": "State/UT=Jammu & Kashmir<extra></extra>",
         "legendgroup": "Jammu & Kashmir",
         "marker": {
          "color": "#17BECF",
          "symbol": "circle"
         },
         "mode": "lines",
         "name": "Jammu & Kashmir",
         "showlegend": false,
         "type": "scatter",
         "xaxis": "x",
         "yaxis": "y"
        },
        {
         "hovertemplate": "State/UT=Jharkhand<br>2017=%{x}<br>2016=%{y}<extra></extra>",
         "legendgroup": "Jharkhand",
         "marker": {
          "color": "#1F77B4",
          "line": {
           "color": "DarkSlateGrey",
           "width": 1
          },
          "size": 16,
          "symbol": "circle"
         },
         "mode": "markers",
         "name": "Jharkhand",
         "orientation": "v",
         "showlegend": true,
         "type": "scatter",
         "x": [
          720
         ],
         "xaxis": "x",
         "y": [
          259
         ],
         "yaxis": "y"
        },
        {
         "alignmentgroup": "True",
         "hovertemplate": "State/UT=Jharkhand<br>2017=%{x}<extra></extra>",
         "legendgroup": "Jharkhand",
         "marker": {
          "color": "#1F77B4",
          "symbol": "circle"
         },
         "name": "Jharkhand",
         "notched": true,
         "offsetgroup": "Jharkhand",
         "showlegend": false,
         "type": "box",
         "x": [
          720
         ],
         "xaxis": "x3",
         "yaxis": "y3"
        },
        {
         "alignmentgroup": "True",
         "hovertemplate": "State/UT=Jharkhand<br>2016=%{y}<extra></extra>",
         "legendgroup": "Jharkhand",
         "marker": {
          "color": "#1F77B4",
          "symbol": "circle"
         },
         "name": "Jharkhand",
         "offsetgroup": "Jharkhand",
         "scalegroup": "y",
         "showlegend": false,
         "type": "violin",
         "xaxis": "x2",
         "y": [
          259
         ],
         "yaxis": "y2"
        },
        {
         "hovertemplate": "State/UT=Jharkhand<extra></extra>",
         "legendgroup": "Jharkhand",
         "marker": {
          "color": "#1F77B4",
          "symbol": "circle"
         },
         "mode": "lines",
         "name": "Jharkhand",
         "showlegend": false,
         "type": "scatter",
         "xaxis": "x",
         "yaxis": "y"
        },
        {
         "hovertemplate": "State/UT=Karnataka<br>2017=%{x}<br>2016=%{y}<extra></extra>",
         "legendgroup": "Karnataka",
         "marker": {
          "color": "#FF7F0E",
          "line": {
           "color": "DarkSlateGrey",
           "width": 1
          },
          "size": 16,
          "symbol": "circle"
         },
         "mode": "markers",
         "name": "Karnataka",
         "orientation": "v",
         "showlegend": true,
         "type": "scatter",
         "x": [
          3174
         ],
         "xaxis": "x",
         "y": [
          1101
         ],
         "yaxis": "y"
        },
        {
         "alignmentgroup": "True",
         "hovertemplate": "State/UT=Karnataka<br>2017=%{x}<extra></extra>",
         "legendgroup": "Karnataka",
         "marker": {
          "color": "#FF7F0E",
          "symbol": "circle"
         },
         "name": "Karnataka",
         "notched": true,
         "offsetgroup": "Karnataka",
         "showlegend": false,
         "type": "box",
         "x": [
          3174
         ],
         "xaxis": "x3",
         "yaxis": "y3"
        },
        {
         "alignmentgroup": "True",
         "hovertemplate": "State/UT=Karnataka<br>2016=%{y}<extra></extra>",
         "legendgroup": "Karnataka",
         "marker": {
          "color": "#FF7F0E",
          "symbol": "circle"
         },
         "name": "Karnataka",
         "offsetgroup": "Karnataka",
         "scalegroup": "y",
         "showlegend": false,
         "type": "violin",
         "xaxis": "x2",
         "y": [
          1101
         ],
         "yaxis": "y2"
        },
        {
         "hovertemplate": "State/UT=Karnataka<extra></extra>",
         "legendgroup": "Karnataka",
         "marker": {
          "color": "#FF7F0E",
          "symbol": "circle"
         },
         "mode": "lines",
         "name": "Karnataka",
         "showlegend": false,
         "type": "scatter",
         "xaxis": "x",
         "yaxis": "y"
        },
        {
         "hovertemplate": "State/UT=Kerala<br>2017=%{x}<br>2016=%{y}<extra></extra>",
         "legendgroup": "Kerala",
         "marker": {
          "color": "#2CA02C",
          "line": {
           "color": "DarkSlateGrey",
           "width": 1
          },
          "size": 16,
          "symbol": "circle"
         },
         "mode": "markers",
         "name": "Kerala",
         "orientation": "v",
         "showlegend": true,
         "type": "scatter",
         "x": [
          320
         ],
         "xaxis": "x",
         "y": [
          283
         ],
         "yaxis": "y"
        },
        {
         "alignmentgroup": "True",
         "hovertemplate": "State/UT=Kerala<br>2017=%{x}<extra></extra>",
         "legendgroup": "Kerala",
         "marker": {
          "color": "#2CA02C",
          "symbol": "circle"
         },
         "name": "Kerala",
         "notched": true,
         "offsetgroup": "Kerala",
         "showlegend": false,
         "type": "box",
         "x": [
          320
         ],
         "xaxis": "x3",
         "yaxis": "y3"
        },
        {
         "alignmentgroup": "True",
         "hovertemplate": "State/UT=Kerala<br>2016=%{y}<extra></extra>",
         "legendgroup": "Kerala",
         "marker": {
          "color": "#2CA02C",
          "symbol": "circle"
         },
         "name": "Kerala",
         "offsetgroup": "Kerala",
         "scalegroup": "y",
         "showlegend": false,
         "type": "violin",
         "xaxis": "x2",
         "y": [
          283
         ],
         "yaxis": "y2"
        },
        {
         "hovertemplate": "State/UT=Kerala<extra></extra>",
         "legendgroup": "Kerala",
         "marker": {
          "color": "#2CA02C",
          "symbol": "circle"
         },
         "mode": "lines",
         "name": "Kerala",
         "showlegend": false,
         "type": "scatter",
         "xaxis": "x",
         "yaxis": "y"
        },
        {
         "hovertemplate": "State/UT=Madhya Pradesh<br>2017=%{x}<br>2016=%{y}<extra></extra>",
         "legendgroup": "Madhya Pradesh",
         "marker": {
          "color": "#D62728",
          "line": {
           "color": "DarkSlateGrey",
           "width": 1
          },
          "size": 16,
          "symbol": "circle"
         },
         "mode": "markers",
         "name": "Madhya Pradesh",
         "orientation": "v",
         "showlegend": true,
         "type": "scatter",
         "x": [
          490
         ],
         "xaxis": "x",
         "y": [
          258
         ],
         "yaxis": "y"
        },
        {
         "alignmentgroup": "True",
         "hovertemplate": "State/UT=Madhya Pradesh<br>2017=%{x}<extra></extra>",
         "legendgroup": "Madhya Pradesh",
         "marker": {
          "color": "#D62728",
          "symbol": "circle"
         },
         "name": "Madhya Pradesh",
         "notched": true,
         "offsetgroup": "Madhya Pradesh",
         "showlegend": false,
         "type": "box",
         "x": [
          490
         ],
         "xaxis": "x3",
         "yaxis": "y3"
        },
        {
         "alignmentgroup": "True",
         "hovertemplate": "State/UT=Madhya Pradesh<br>2016=%{y}<extra></extra>",
         "legendgroup": "Madhya Pradesh",
         "marker": {
          "color": "#D62728",
          "symbol": "circle"
         },
         "name": "Madhya Pradesh",
         "offsetgroup": "Madhya Pradesh",
         "scalegroup": "y",
         "showlegend": false,
         "type": "violin",
         "xaxis": "x2",
         "y": [
          258
         ],
         "yaxis": "y2"
        },
        {
         "hovertemplate": "State/UT=Madhya Pradesh<extra></extra>",
         "legendgroup": "Madhya Pradesh",
         "marker": {
          "color": "#D62728",
          "symbol": "circle"
         },
         "mode": "lines",
         "name": "Madhya Pradesh",
         "showlegend": false,
         "type": "scatter",
         "xaxis": "x",
         "yaxis": "y"
        },
        {
         "hovertemplate": "State/UT=Maharashtra<br>2017=%{x}<br>2016=%{y}<extra></extra>",
         "legendgroup": "Maharashtra",
         "marker": {
          "color": "#9467BD",
          "line": {
           "color": "DarkSlateGrey",
           "width": 1
          },
          "size": 16,
          "symbol": "circle"
         },
         "mode": "markers",
         "name": "Maharashtra",
         "orientation": "v",
         "showlegend": true,
         "type": "scatter",
         "x": [
          3604
         ],
         "xaxis": "x",
         "y": [
          2380
         ],
         "yaxis": "y"
        },
        {
         "alignmentgroup": "True",
         "hovertemplate": "State/UT=Maharashtra<br>2017=%{x}<extra></extra>",
         "legendgroup": "Maharashtra",
         "marker": {
          "color": "#9467BD",
          "symbol": "circle"
         },
         "name": "Maharashtra",
         "notched": true,
         "offsetgroup": "Maharashtra",
         "showlegend": false,
         "type": "box",
         "x": [
          3604
         ],
         "xaxis": "x3",
         "yaxis": "y3"
        },
        {
         "alignmentgroup": "True",
         "hovertemplate": "State/UT=Maharashtra<br>2016=%{y}<extra></extra>",
         "legendgroup": "Maharashtra",
         "marker": {
          "color": "#9467BD",
          "symbol": "circle"
         },
         "name": "Maharashtra",
         "offsetgroup": "Maharashtra",
         "scalegroup": "y",
         "showlegend": false,
         "type": "violin",
         "xaxis": "x2",
         "y": [
          2380
         ],
         "yaxis": "y2"
        },
        {
         "hovertemplate": "State/UT=Maharashtra<extra></extra>",
         "legendgroup": "Maharashtra",
         "marker": {
          "color": "#9467BD",
          "symbol": "circle"
         },
         "mode": "lines",
         "name": "Maharashtra",
         "showlegend": false,
         "type": "scatter",
         "xaxis": "x",
         "yaxis": "y"
        },
        {
         "hovertemplate": "State/UT=Manipur<br>2017=%{x}<br>2016=%{y}<extra></extra>",
         "legendgroup": "Manipur",
         "marker": {
          "color": "#8C564B",
          "line": {
           "color": "DarkSlateGrey",
           "width": 1
          },
          "size": 16,
          "symbol": "circle"
         },
         "mode": "markers",
         "name": "Manipur",
         "orientation": "v",
         "showlegend": true,
         "type": "scatter",
         "x": [
          74
         ],
         "xaxis": "x",
         "y": [
          11
         ],
         "yaxis": "y"
        },
        {
         "alignmentgroup": "True",
         "hovertemplate": "State/UT=Manipur<br>2017=%{x}<extra></extra>",
         "legendgroup": "Manipur",
         "marker": {
          "color": "#8C564B",
          "symbol": "circle"
         },
         "name": "Manipur",
         "notched": true,
         "offsetgroup": "Manipur",
         "showlegend": false,
         "type": "box",
         "x": [
          74
         ],
         "xaxis": "x3",
         "yaxis": "y3"
        },
        {
         "alignmentgroup": "True",
         "hovertemplate": "State/UT=Manipur<br>2016=%{y}<extra></extra>",
         "legendgroup": "Manipur",
         "marker": {
          "color": "#8C564B",
          "symbol": "circle"
         },
         "name": "Manipur",
         "offsetgroup": "Manipur",
         "scalegroup": "y",
         "showlegend": false,
         "type": "violin",
         "xaxis": "x2",
         "y": [
          11
         ],
         "yaxis": "y2"
        },
        {
         "hovertemplate": "State/UT=Manipur<extra></extra>",
         "legendgroup": "Manipur",
         "marker": {
          "color": "#8C564B",
          "symbol": "circle"
         },
         "mode": "lines",
         "name": "Manipur",
         "showlegend": false,
         "type": "scatter",
         "xaxis": "x",
         "yaxis": "y"
        },
        {
         "hovertemplate": "State/UT=Meghalaya<br>2017=%{x}<br>2016=%{y}<extra></extra>",
         "legendgroup": "Meghalaya",
         "marker": {
          "color": "#E377C2",
          "line": {
           "color": "DarkSlateGrey",
           "width": 1
          },
          "size": 16,
          "symbol": "circle"
         },
         "mode": "markers",
         "name": "Meghalaya",
         "orientation": "v",
         "showlegend": true,
         "type": "scatter",
         "x": [
          39
         ],
         "xaxis": "x",
         "y": [
          39
         ],
         "yaxis": "y"
        },
        {
         "alignmentgroup": "True",
         "hovertemplate": "State/UT=Meghalaya<br>2017=%{x}<extra></extra>",
         "legendgroup": "Meghalaya",
         "marker": {
          "color": "#E377C2",
          "symbol": "circle"
         },
         "name": "Meghalaya",
         "notched": true,
         "offsetgroup": "Meghalaya",
         "showlegend": false,
         "type": "box",
         "x": [
          39
         ],
         "xaxis": "x3",
         "yaxis": "y3"
        },
        {
         "alignmentgroup": "True",
         "hovertemplate": "State/UT=Meghalaya<br>2016=%{y}<extra></extra>",
         "legendgroup": "Meghalaya",
         "marker": {
          "color": "#E377C2",
          "symbol": "circle"
         },
         "name": "Meghalaya",
         "offsetgroup": "Meghalaya",
         "scalegroup": "y",
         "showlegend": false,
         "type": "violin",
         "xaxis": "x2",
         "y": [
          39
         ],
         "yaxis": "y2"
        },
        {
         "hovertemplate": "State/UT=Meghalaya<extra></extra>",
         "legendgroup": "Meghalaya",
         "marker": {
          "color": "#E377C2",
          "symbol": "circle"
         },
         "mode": "lines",
         "name": "Meghalaya",
         "showlegend": false,
         "type": "scatter",
         "xaxis": "x",
         "yaxis": "y"
        },
        {
         "hovertemplate": "State/UT=Mizoram<br>2017=%{x}<br>2016=%{y}<extra></extra>",
         "legendgroup": "Mizoram",
         "marker": {
          "color": "#7F7F7F",
          "line": {
           "color": "DarkSlateGrey",
           "width": 1
          },
          "size": 16,
          "symbol": "circle"
         },
         "mode": "markers",
         "name": "Mizoram",
         "orientation": "v",
         "showlegend": true,
         "type": "scatter",
         "x": [
          10
         ],
         "xaxis": "x",
         "y": [
          1
         ],
         "yaxis": "y"
        },
        {
         "alignmentgroup": "True",
         "hovertemplate": "State/UT=Mizoram<br>2017=%{x}<extra></extra>",
         "legendgroup": "Mizoram",
         "marker": {
          "color": "#7F7F7F",
          "symbol": "circle"
         },
         "name": "Mizoram",
         "notched": true,
         "offsetgroup": "Mizoram",
         "showlegend": false,
         "type": "box",
         "x": [
          10
         ],
         "xaxis": "x3",
         "yaxis": "y3"
        },
        {
         "alignmentgroup": "True",
         "hovertemplate": "State/UT=Mizoram<br>2016=%{y}<extra></extra>",
         "legendgroup": "Mizoram",
         "marker": {
          "color": "#7F7F7F",
          "symbol": "circle"
         },
         "name": "Mizoram",
         "offsetgroup": "Mizoram",
         "scalegroup": "y",
         "showlegend": false,
         "type": "violin",
         "xaxis": "x2",
         "y": [
          1
         ],
         "yaxis": "y2"
        },
        {
         "hovertemplate": "State/UT=Mizoram<extra></extra>",
         "legendgroup": "Mizoram",
         "marker": {
          "color": "#7F7F7F",
          "symbol": "circle"
         },
         "mode": "lines",
         "name": "Mizoram",
         "showlegend": false,
         "type": "scatter",
         "xaxis": "x",
         "yaxis": "y"
        },
        {
         "hovertemplate": "State/UT=Nagaland<br>2017=%{x}<br>2016=%{y}<extra></extra>",
         "legendgroup": "Nagaland",
         "marker": {
          "color": "#BCBD22",
          "line": {
           "color": "DarkSlateGrey",
           "width": 1
          },
          "size": 16,
          "symbol": "circle"
         },
         "mode": "markers",
         "name": "Nagaland",
         "orientation": "v",
         "showlegend": true,
         "type": "scatter",
         "x": [
          0
         ],
         "xaxis": "x",
         "y": [
          2
         ],
         "yaxis": "y"
        },
        {
         "alignmentgroup": "True",
         "hovertemplate": "State/UT=Nagaland<br>2017=%{x}<extra></extra>",
         "legendgroup": "Nagaland",
         "marker": {
          "color": "#BCBD22",
          "symbol": "circle"
         },
         "name": "Nagaland",
         "notched": true,
         "offsetgroup": "Nagaland",
         "showlegend": false,
         "type": "box",
         "x": [
          0
         ],
         "xaxis": "x3",
         "yaxis": "y3"
        },
        {
         "alignmentgroup": "True",
         "hovertemplate": "State/UT=Nagaland<br>2016=%{y}<extra></extra>",
         "legendgroup": "Nagaland",
         "marker": {
          "color": "#BCBD22",
          "symbol": "circle"
         },
         "name": "Nagaland",
         "offsetgroup": "Nagaland",
         "scalegroup": "y",
         "showlegend": false,
         "type": "violin",
         "xaxis": "x2",
         "y": [
          2
         ],
         "yaxis": "y2"
        },
        {
         "hovertemplate": "State/UT=Nagaland<extra></extra>",
         "legendgroup": "Nagaland",
         "marker": {
          "color": "#BCBD22",
          "symbol": "circle"
         },
         "mode": "lines",
         "name": "Nagaland",
         "showlegend": false,
         "type": "scatter",
         "xaxis": "x",
         "yaxis": "y"
        },
        {
         "hovertemplate": "State/UT=Odisha<br>2017=%{x}<br>2016=%{y}<extra></extra>",
         "legendgroup": "Odisha",
         "marker": {
          "color": "#17BECF",
          "line": {
           "color": "DarkSlateGrey",
           "width": 1
          },
          "size": 16,
          "symbol": "circle"
         },
         "mode": "markers",
         "name": "Odisha",
         "orientation": "v",
         "showlegend": true,
         "type": "scatter",
         "x": [
          824
         ],
         "xaxis": "x",
         "y": [
          317
         ],
         "yaxis": "y"
        },
        {
         "alignmentgroup": "True",
         "hovertemplate": "State/UT=Odisha<br>2017=%{x}<extra></extra>",
         "legendgroup": "Odisha",
         "marker": {
          "color": "#17BECF",
          "symbol": "circle"
         },
         "name": "Odisha",
         "notched": true,
         "offsetgroup": "Odisha",
         "showlegend": false,
         "type": "box",
         "x": [
          824
         ],
         "xaxis": "x3",
         "yaxis": "y3"
        },
        {
         "alignmentgroup": "True",
         "hovertemplate": "State/UT=Odisha<br>2016=%{y}<extra></extra>",
         "legendgroup": "Odisha",
         "marker": {
          "color": "#17BECF",
          "symbol": "circle"
         },
         "name": "Odisha",
         "offsetgroup": "Odisha",
         "scalegroup": "y",
         "showlegend": false,
         "type": "violin",
         "xaxis": "x2",
         "y": [
          317
         ],
         "yaxis": "y2"
        },
        {
         "hovertemplate": "State/UT=Odisha<extra></extra>",
         "legendgroup": "Odisha",
         "marker": {
          "color": "#17BECF",
          "symbol": "circle"
         },
         "mode": "lines",
         "name": "Odisha",
         "showlegend": false,
         "type": "scatter",
         "xaxis": "x",
         "yaxis": "y"
        },
        {
         "hovertemplate": "State/UT=Punjab<br>2017=%{x}<br>2016=%{y}<extra></extra>",
         "legendgroup": "Punjab",
         "marker": {
          "color": "#1F77B4",
          "line": {
           "color": "DarkSlateGrey",
           "width": 1
          },
          "size": 16,
          "symbol": "circle"
         },
         "mode": "markers",
         "name": "Punjab",
         "orientation": "v",
         "showlegend": true,
         "type": "scatter",
         "x": [
          176
         ],
         "xaxis": "x",
         "y": [
          102
         ],
         "yaxis": "y"
        },
        {
         "alignmentgroup": "True",
         "hovertemplate": "State/UT=Punjab<br>2017=%{x}<extra></extra>",
         "legendgroup": "Punjab",
         "marker": {
          "color": "#1F77B4",
          "symbol": "circle"
         },
         "name": "Punjab",
         "notched": true,
         "offsetgroup": "Punjab",
         "showlegend": false,
         "type": "box",
         "x": [
          176
         ],
         "xaxis": "x3",
         "yaxis": "y3"
        },
        {
         "alignmentgroup": "True",
         "hovertemplate": "State/UT=Punjab<br>2016=%{y}<extra></extra>",
         "legendgroup": "Punjab",
         "marker": {
          "color": "#1F77B4",
          "symbol": "circle"
         },
         "name": "Punjab",
         "offsetgroup": "Punjab",
         "scalegroup": "y",
         "showlegend": false,
         "type": "violin",
         "xaxis": "x2",
         "y": [
          102
         ],
         "yaxis": "y2"
        },
        {
         "hovertemplate": "State/UT=Punjab<extra></extra>",
         "legendgroup": "Punjab",
         "marker": {
          "color": "#1F77B4",
          "symbol": "circle"
         },
         "mode": "lines",
         "name": "Punjab",
         "showlegend": false,
         "type": "scatter",
         "xaxis": "x",
         "yaxis": "y"
        },
        {
         "hovertemplate": "State/UT=Rajasthan<br>2017=%{x}<br>2016=%{y}<extra></extra>",
         "legendgroup": "Rajasthan",
         "marker": {
          "color": "#FF7F0E",
          "line": {
           "color": "DarkSlateGrey",
           "width": 1
          },
          "size": 16,
          "symbol": "circle"
         },
         "mode": "markers",
         "name": "Rajasthan",
         "orientation": "v",
         "showlegend": true,
         "type": "scatter",
         "x": [
          1304
         ],
         "xaxis": "x",
         "y": [
          941
         ],
         "yaxis": "y"
        },
        {
         "alignmentgroup": "True",
         "hovertemplate": "State/UT=Rajasthan<br>2017=%{x}<extra></extra>",
         "legendgroup": "Rajasthan",
         "marker": {
          "color": "#FF7F0E",
          "symbol": "circle"
         },
         "name": "Rajasthan",
         "notched": true,
         "offsetgroup": "Rajasthan",
         "showlegend": false,
         "type": "box",
         "x": [
          1304
         ],
         "xaxis": "x3",
         "yaxis": "y3"
        },
        {
         "alignmentgroup": "True",
         "hovertemplate": "State/UT=Rajasthan<br>2016=%{y}<extra></extra>",
         "legendgroup": "Rajasthan",
         "marker": {
          "color": "#FF7F0E",
          "symbol": "circle"
         },
         "name": "Rajasthan",
         "offsetgroup": "Rajasthan",
         "scalegroup": "y",
         "showlegend": false,
         "type": "violin",
         "xaxis": "x2",
         "y": [
          941
         ],
         "yaxis": "y2"
        },
        {
         "hovertemplate": "State/UT=Rajasthan<extra></extra>",
         "legendgroup": "Rajasthan",
         "marker": {
          "color": "#FF7F0E",
          "symbol": "circle"
         },
         "mode": "lines",
         "name": "Rajasthan",
         "showlegend": false,
         "type": "scatter",
         "xaxis": "x",
         "yaxis": "y"
        },
        {
         "hovertemplate": "State/UT=Sikkim<br>2017=%{x}<br>2016=%{y}<extra></extra>",
         "legendgroup": "Sikkim",
         "marker": {
          "color": "#2CA02C",
          "line": {
           "color": "DarkSlateGrey",
           "width": 1
          },
          "size": 16,
          "symbol": "circle"
         },
         "mode": "markers",
         "name": "Sikkim",
         "orientation": "v",
         "showlegend": true,
         "type": "scatter",
         "x": [
          1
         ],
         "xaxis": "x",
         "y": [
          1
         ],
         "yaxis": "y"
        },
        {
         "alignmentgroup": "True",
         "hovertemplate": "State/UT=Sikkim<br>2017=%{x}<extra></extra>",
         "legendgroup": "Sikkim",
         "marker": {
          "color": "#2CA02C",
          "symbol": "circle"
         },
         "name": "Sikkim",
         "notched": true,
         "offsetgroup": "Sikkim",
         "showlegend": false,
         "type": "box",
         "x": [
          1
         ],
         "xaxis": "x3",
         "yaxis": "y3"
        },
        {
         "alignmentgroup": "True",
         "hovertemplate": "State/UT=Sikkim<br>2016=%{y}<extra></extra>",
         "legendgroup": "Sikkim",
         "marker": {
          "color": "#2CA02C",
          "symbol": "circle"
         },
         "name": "Sikkim",
         "offsetgroup": "Sikkim",
         "scalegroup": "y",
         "showlegend": false,
         "type": "violin",
         "xaxis": "x2",
         "y": [
          1
         ],
         "yaxis": "y2"
        },
        {
         "hovertemplate": "State/UT=Sikkim<extra></extra>",
         "legendgroup": "Sikkim",
         "marker": {
          "color": "#2CA02C",
          "symbol": "circle"
         },
         "mode": "lines",
         "name": "Sikkim",
         "showlegend": false,
         "type": "scatter",
         "xaxis": "x",
         "yaxis": "y"
        },
        {
         "hovertemplate": "State/UT=Tamil Nadu<br>2017=%{x}<br>2016=%{y}<extra></extra>",
         "legendgroup": "Tamil Nadu",
         "marker": {
          "color": "#D62728",
          "line": {
           "color": "DarkSlateGrey",
           "width": 1
          },
          "size": 16,
          "symbol": "circle"
         },
         "mode": "markers",
         "name": "Tamil Nadu",
         "orientation": "v",
         "showlegend": true,
         "type": "scatter",
         "x": [
          228
         ],
         "xaxis": "x",
         "y": [
          144
         ],
         "yaxis": "y"
        },
        {
         "alignmentgroup": "True",
         "hovertemplate": "State/UT=Tamil Nadu<br>2017=%{x}<extra></extra>",
         "legendgroup": "Tamil Nadu",
         "marker": {
          "color": "#D62728",
          "symbol": "circle"
         },
         "name": "Tamil Nadu",
         "notched": true,
         "offsetgroup": "Tamil Nadu",
         "showlegend": false,
         "type": "box",
         "x": [
          228
         ],
         "xaxis": "x3",
         "yaxis": "y3"
        },
        {
         "alignmentgroup": "True",
         "hovertemplate": "State/UT=Tamil Nadu<br>2016=%{y}<extra></extra>",
         "legendgroup": "Tamil Nadu",
         "marker": {
          "color": "#D62728",
          "symbol": "circle"
         },
         "name": "Tamil Nadu",
         "offsetgroup": "Tamil Nadu",
         "scalegroup": "y",
         "showlegend": false,
         "type": "violin",
         "xaxis": "x2",
         "y": [
          144
         ],
         "yaxis": "y2"
        },
        {
         "hovertemplate": "State/UT=Tamil Nadu<extra></extra>",
         "legendgroup": "Tamil Nadu",
         "marker": {
          "color": "#D62728",
          "symbol": "circle"
         },
         "mode": "lines",
         "name": "Tamil Nadu",
         "showlegend": false,
         "type": "scatter",
         "xaxis": "x",
         "yaxis": "y"
        },
        {
         "hovertemplate": "State/UT=Telangana<br>2017=%{x}<br>2016=%{y}<extra></extra>",
         "legendgroup": "Telangana",
         "marker": {
          "color": "#9467BD",
          "line": {
           "color": "DarkSlateGrey",
           "width": 1
          },
          "size": 16,
          "symbol": "circle"
         },
         "mode": "markers",
         "name": "Telangana",
         "orientation": "v",
         "showlegend": true,
         "type": "scatter",
         "x": [
          1209
         ],
         "xaxis": "x",
         "y": [
          593
         ],
         "yaxis": "y"
        },
        {
         "alignmentgroup": "True",
         "hovertemplate": "State/UT=Telangana<br>2017=%{x}<extra></extra>",
         "legendgroup": "Telangana",
         "marker": {
          "color": "#9467BD",
          "symbol": "circle"
         },
         "name": "Telangana",
         "notched": true,
         "offsetgroup": "Telangana",
         "showlegend": false,
         "type": "box",
         "x": [
          1209
         ],
         "xaxis": "x3",
         "yaxis": "y3"
        },
        {
         "alignmentgroup": "True",
         "hovertemplate": "State/UT=Telangana<br>2016=%{y}<extra></extra>",
         "legendgroup": "Telangana",
         "marker": {
          "color": "#9467BD",
          "symbol": "circle"
         },
         "name": "Telangana",
         "offsetgroup": "Telangana",
         "scalegroup": "y",
         "showlegend": false,
         "type": "violin",
         "xaxis": "x2",
         "y": [
          593
         ],
         "yaxis": "y2"
        },
        {
         "hovertemplate": "State/UT=Telangana<extra></extra>",
         "legendgroup": "Telangana",
         "marker": {
          "color": "#9467BD",
          "symbol": "circle"
         },
         "mode": "lines",
         "name": "Telangana",
         "showlegend": false,
         "type": "scatter",
         "xaxis": "x",
         "yaxis": "y"
        },
        {
         "hovertemplate": "State/UT=Tripura<br>2017=%{x}<br>2016=%{y}<extra></extra>",
         "legendgroup": "Tripura",
         "marker": {
          "color": "#8C564B",
          "line": {
           "color": "DarkSlateGrey",
           "width": 1
          },
          "size": 16,
          "symbol": "circle"
         },
         "mode": "markers",
         "name": "Tripura",
         "orientation": "v",
         "showlegend": true,
         "type": "scatter",
         "x": [
          7
         ],
         "xaxis": "x",
         "y": [
          8
         ],
         "yaxis": "y"
        },
        {
         "alignmentgroup": "True",
         "hovertemplate": "State/UT=Tripura<br>2017=%{x}<extra></extra>",
         "legendgroup": "Tripura",
         "marker": {
          "color": "#8C564B",
          "symbol": "circle"
         },
         "name": "Tripura",
         "notched": true,
         "offsetgroup": "Tripura",
         "showlegend": false,
         "type": "box",
         "x": [
          7
         ],
         "xaxis": "x3",
         "yaxis": "y3"
        },
        {
         "alignmentgroup": "True",
         "hovertemplate": "State/UT=Tripura<br>2016=%{y}<extra></extra>",
         "legendgroup": "Tripura",
         "marker": {
          "color": "#8C564B",
          "symbol": "circle"
         },
         "name": "Tripura",
         "offsetgroup": "Tripura",
         "scalegroup": "y",
         "showlegend": false,
         "type": "violin",
         "xaxis": "x2",
         "y": [
          8
         ],
         "yaxis": "y2"
        },
        {
         "hovertemplate": "State/UT=Tripura<extra></extra>",
         "legendgroup": "Tripura",
         "marker": {
          "color": "#8C564B",
          "symbol": "circle"
         },
         "mode": "lines",
         "name": "Tripura",
         "showlegend": false,
         "type": "scatter",
         "xaxis": "x",
         "yaxis": "y"
        },
        {
         "hovertemplate": "State/UT=Uttar Pradesh<br>2017=%{x}<br>2016=%{y}<extra></extra>",
         "legendgroup": "Uttar Pradesh",
         "marker": {
          "color": "#E377C2",
          "line": {
           "color": "DarkSlateGrey",
           "width": 1
          },
          "size": 16,
          "symbol": "circle"
         },
         "mode": "markers",
         "name": "Uttar Pradesh",
         "orientation": "v",
         "showlegend": true,
         "type": "scatter",
         "x": [
          4971
         ],
         "xaxis": "x",
         "y": [
          2639
         ],
         "yaxis": "y"
        },
        {
         "alignmentgroup": "True",
         "hovertemplate": "State/UT=Uttar Pradesh<br>2017=%{x}<extra></extra>",
         "legendgroup": "Uttar Pradesh",
         "marker": {
          "color": "#E377C2",
          "symbol": "circle"
         },
         "name": "Uttar Pradesh",
         "notched": true,
         "offsetgroup": "Uttar Pradesh",
         "showlegend": false,
         "type": "box",
         "x": [
          4971
         ],
         "xaxis": "x3",
         "yaxis": "y3"
        },
        {
         "alignmentgroup": "True",
         "hovertemplate": "State/UT=Uttar Pradesh<br>2016=%{y}<extra></extra>",
         "legendgroup": "Uttar Pradesh",
         "marker": {
          "color": "#E377C2",
          "symbol": "circle"
         },
         "name": "Uttar Pradesh",
         "offsetgroup": "Uttar Pradesh",
         "scalegroup": "y",
         "showlegend": false,
         "type": "violin",
         "xaxis": "x2",
         "y": [
          2639
         ],
         "yaxis": "y2"
        },
        {
         "hovertemplate": "State/UT=Uttar Pradesh<extra></extra>",
         "legendgroup": "Uttar Pradesh",
         "marker": {
          "color": "#E377C2",
          "symbol": "circle"
         },
         "mode": "lines",
         "name": "Uttar Pradesh",
         "showlegend": false,
         "type": "scatter",
         "xaxis": "x",
         "yaxis": "y"
        },
        {
         "hovertemplate": "State/UT=Uttarakhand<br>2017=%{x}<br>2016=%{y}<extra></extra>",
         "legendgroup": "Uttarakhand",
         "marker": {
          "color": "#7F7F7F",
          "line": {
           "color": "DarkSlateGrey",
           "width": 1
          },
          "size": 16,
          "symbol": "circle"
         },
         "mode": "markers",
         "name": "Uttarakhand",
         "orientation": "v",
         "showlegend": true,
         "type": "scatter",
         "x": [
          124
         ],
         "xaxis": "x",
         "y": [
          62
         ],
         "yaxis": "y"
        },
        {
         "alignmentgroup": "True",
         "hovertemplate": "State/UT=Uttarakhand<br>2017=%{x}<extra></extra>",
         "legendgroup": "Uttarakhand",
         "marker": {
          "color": "#7F7F7F",
          "symbol": "circle"
         },
         "name": "Uttarakhand",
         "notched": true,
         "offsetgroup": "Uttarakhand",
         "showlegend": false,
         "type": "box",
         "x": [
          124
         ],
         "xaxis": "x3",
         "yaxis": "y3"
        },
        {
         "alignmentgroup": "True",
         "hovertemplate": "State/UT=Uttarakhand<br>2016=%{y}<extra></extra>",
         "legendgroup": "Uttarakhand",
         "marker": {
          "color": "#7F7F7F",
          "symbol": "circle"
         },
         "name": "Uttarakhand",
         "offsetgroup": "Uttarakhand",
         "scalegroup": "y",
         "showlegend": false,
         "type": "violin",
         "xaxis": "x2",
         "y": [
          62
         ],
         "yaxis": "y2"
        },
        {
         "hovertemplate": "State/UT=Uttarakhand<extra></extra>",
         "legendgroup": "Uttarakhand",
         "marker": {
          "color": "#7F7F7F",
          "symbol": "circle"
         },
         "mode": "lines",
         "name": "Uttarakhand",
         "showlegend": false,
         "type": "scatter",
         "xaxis": "x",
         "yaxis": "y"
        },
        {
         "hovertemplate": "State/UT=West Bengal<br>2017=%{x}<br>2016=%{y}<extra></extra>",
         "legendgroup": "West Bengal",
         "marker": {
          "color": "#BCBD22",
          "line": {
           "color": "DarkSlateGrey",
           "width": 1
          },
          "size": 16,
          "symbol": "circle"
         },
         "mode": "markers",
         "name": "West Bengal",
         "orientation": "v",
         "showlegend": true,
         "type": "scatter",
         "x": [
          568
         ],
         "xaxis": "x",
         "y": [
          478
         ],
         "yaxis": "y"
        },
        {
         "alignmentgroup": "True",
         "hovertemplate": "State/UT=West Bengal<br>2017=%{x}<extra></extra>",
         "legendgroup": "West Bengal",
         "marker": {
          "color": "#BCBD22",
          "symbol": "circle"
         },
         "name": "West Bengal",
         "notched": true,
         "offsetgroup": "West Bengal",
         "showlegend": false,
         "type": "box",
         "x": [
          568
         ],
         "xaxis": "x3",
         "yaxis": "y3"
        },
        {
         "alignmentgroup": "True",
         "hovertemplate": "State/UT=West Bengal<br>2016=%{y}<extra></extra>",
         "legendgroup": "West Bengal",
         "marker": {
          "color": "#BCBD22",
          "symbol": "circle"
         },
         "name": "West Bengal",
         "offsetgroup": "West Bengal",
         "scalegroup": "y",
         "showlegend": false,
         "type": "violin",
         "xaxis": "x2",
         "y": [
          478
         ],
         "yaxis": "y2"
        },
        {
         "hovertemplate": "State/UT=West Bengal<extra></extra>",
         "legendgroup": "West Bengal",
         "marker": {
          "color": "#BCBD22",
          "symbol": "circle"
         },
         "mode": "lines",
         "name": "West Bengal",
         "showlegend": false,
         "type": "scatter",
         "xaxis": "x",
         "yaxis": "y"
        }
       ],
       "layout": {
        "height": 600,
        "legend": {
         "title": {
          "text": "State/UT"
         },
         "tracegroupgap": 0
        },
        "paper_bgcolor": "LightSteelBlue",
        "template": {
         "data": {
          "bar": [
           {
            "error_x": {
             "color": "rgb(36,36,36)"
            },
            "error_y": {
             "color": "rgb(36,36,36)"
            },
            "marker": {
             "line": {
              "color": "white",
              "width": 0.5
             },
             "pattern": {
              "fillmode": "overlay",
              "size": 10,
              "solidity": 0.2
             }
            },
            "type": "bar"
           }
          ],
          "barpolar": [
           {
            "marker": {
             "line": {
              "color": "white",
              "width": 0.5
             },
             "pattern": {
              "fillmode": "overlay",
              "size": 10,
              "solidity": 0.2
             }
            },
            "type": "barpolar"
           }
          ],
          "carpet": [
           {
            "aaxis": {
             "endlinecolor": "rgb(36,36,36)",
             "gridcolor": "white",
             "linecolor": "white",
             "minorgridcolor": "white",
             "startlinecolor": "rgb(36,36,36)"
            },
            "baxis": {
             "endlinecolor": "rgb(36,36,36)",
             "gridcolor": "white",
             "linecolor": "white",
             "minorgridcolor": "white",
             "startlinecolor": "rgb(36,36,36)"
            },
            "type": "carpet"
           }
          ],
          "choropleth": [
           {
            "colorbar": {
             "outlinewidth": 1,
             "tickcolor": "rgb(36,36,36)",
             "ticks": "outside"
            },
            "type": "choropleth"
           }
          ],
          "contour": [
           {
            "colorbar": {
             "outlinewidth": 1,
             "tickcolor": "rgb(36,36,36)",
             "ticks": "outside"
            },
            "colorscale": [
             [
              0,
              "#440154"
             ],
             [
              0.1111111111111111,
              "#482878"
             ],
             [
              0.2222222222222222,
              "#3e4989"
             ],
             [
              0.3333333333333333,
              "#31688e"
             ],
             [
              0.4444444444444444,
              "#26828e"
             ],
             [
              0.5555555555555556,
              "#1f9e89"
             ],
             [
              0.6666666666666666,
              "#35b779"
             ],
             [
              0.7777777777777778,
              "#6ece58"
             ],
             [
              0.8888888888888888,
              "#b5de2b"
             ],
             [
              1,
              "#fde725"
             ]
            ],
            "type": "contour"
           }
          ],
          "contourcarpet": [
           {
            "colorbar": {
             "outlinewidth": 1,
             "tickcolor": "rgb(36,36,36)",
             "ticks": "outside"
            },
            "type": "contourcarpet"
           }
          ],
          "heatmap": [
           {
            "colorbar": {
             "outlinewidth": 1,
             "tickcolor": "rgb(36,36,36)",
             "ticks": "outside"
            },
            "colorscale": [
             [
              0,
              "#440154"
             ],
             [
              0.1111111111111111,
              "#482878"
             ],
             [
              0.2222222222222222,
              "#3e4989"
             ],
             [
              0.3333333333333333,
              "#31688e"
             ],
             [
              0.4444444444444444,
              "#26828e"
             ],
             [
              0.5555555555555556,
              "#1f9e89"
             ],
             [
              0.6666666666666666,
              "#35b779"
             ],
             [
              0.7777777777777778,
              "#6ece58"
             ],
             [
              0.8888888888888888,
              "#b5de2b"
             ],
             [
              1,
              "#fde725"
             ]
            ],
            "type": "heatmap"
           }
          ],
          "heatmapgl": [
           {
            "colorbar": {
             "outlinewidth": 1,
             "tickcolor": "rgb(36,36,36)",
             "ticks": "outside"
            },
            "colorscale": [
             [
              0,
              "#440154"
             ],
             [
              0.1111111111111111,
              "#482878"
             ],
             [
              0.2222222222222222,
              "#3e4989"
             ],
             [
              0.3333333333333333,
              "#31688e"
             ],
             [
              0.4444444444444444,
              "#26828e"
             ],
             [
              0.5555555555555556,
              "#1f9e89"
             ],
             [
              0.6666666666666666,
              "#35b779"
             ],
             [
              0.7777777777777778,
              "#6ece58"
             ],
             [
              0.8888888888888888,
              "#b5de2b"
             ],
             [
              1,
              "#fde725"
             ]
            ],
            "type": "heatmapgl"
           }
          ],
          "histogram": [
           {
            "marker": {
             "line": {
              "color": "white",
              "width": 0.6
             }
            },
            "type": "histogram"
           }
          ],
          "histogram2d": [
           {
            "colorbar": {
             "outlinewidth": 1,
             "tickcolor": "rgb(36,36,36)",
             "ticks": "outside"
            },
            "colorscale": [
             [
              0,
              "#440154"
             ],
             [
              0.1111111111111111,
              "#482878"
             ],
             [
              0.2222222222222222,
              "#3e4989"
             ],
             [
              0.3333333333333333,
              "#31688e"
             ],
             [
              0.4444444444444444,
              "#26828e"
             ],
             [
              0.5555555555555556,
              "#1f9e89"
             ],
             [
              0.6666666666666666,
              "#35b779"
             ],
             [
              0.7777777777777778,
              "#6ece58"
             ],
             [
              0.8888888888888888,
              "#b5de2b"
             ],
             [
              1,
              "#fde725"
             ]
            ],
            "type": "histogram2d"
           }
          ],
          "histogram2dcontour": [
           {
            "colorbar": {
             "outlinewidth": 1,
             "tickcolor": "rgb(36,36,36)",
             "ticks": "outside"
            },
            "colorscale": [
             [
              0,
              "#440154"
             ],
             [
              0.1111111111111111,
              "#482878"
             ],
             [
              0.2222222222222222,
              "#3e4989"
             ],
             [
              0.3333333333333333,
              "#31688e"
             ],
             [
              0.4444444444444444,
              "#26828e"
             ],
             [
              0.5555555555555556,
              "#1f9e89"
             ],
             [
              0.6666666666666666,
              "#35b779"
             ],
             [
              0.7777777777777778,
              "#6ece58"
             ],
             [
              0.8888888888888888,
              "#b5de2b"
             ],
             [
              1,
              "#fde725"
             ]
            ],
            "type": "histogram2dcontour"
           }
          ],
          "mesh3d": [
           {
            "colorbar": {
             "outlinewidth": 1,
             "tickcolor": "rgb(36,36,36)",
             "ticks": "outside"
            },
            "type": "mesh3d"
           }
          ],
          "parcoords": [
           {
            "line": {
             "colorbar": {
              "outlinewidth": 1,
              "tickcolor": "rgb(36,36,36)",
              "ticks": "outside"
             }
            },
            "type": "parcoords"
           }
          ],
          "pie": [
           {
            "automargin": true,
            "type": "pie"
           }
          ],
          "scatter": [
           {
            "fillpattern": {
             "fillmode": "overlay",
             "size": 10,
             "solidity": 0.2
            },
            "type": "scatter"
           }
          ],
          "scatter3d": [
           {
            "line": {
             "colorbar": {
              "outlinewidth": 1,
              "tickcolor": "rgb(36,36,36)",
              "ticks": "outside"
             }
            },
            "marker": {
             "colorbar": {
              "outlinewidth": 1,
              "tickcolor": "rgb(36,36,36)",
              "ticks": "outside"
             }
            },
            "type": "scatter3d"
           }
          ],
          "scattercarpet": [
           {
            "marker": {
             "colorbar": {
              "outlinewidth": 1,
              "tickcolor": "rgb(36,36,36)",
              "ticks": "outside"
             }
            },
            "type": "scattercarpet"
           }
          ],
          "scattergeo": [
           {
            "marker": {
             "colorbar": {
              "outlinewidth": 1,
              "tickcolor": "rgb(36,36,36)",
              "ticks": "outside"
             }
            },
            "type": "scattergeo"
           }
          ],
          "scattergl": [
           {
            "marker": {
             "colorbar": {
              "outlinewidth": 1,
              "tickcolor": "rgb(36,36,36)",
              "ticks": "outside"
             }
            },
            "type": "scattergl"
           }
          ],
          "scattermapbox": [
           {
            "marker": {
             "colorbar": {
              "outlinewidth": 1,
              "tickcolor": "rgb(36,36,36)",
              "ticks": "outside"
             }
            },
            "type": "scattermapbox"
           }
          ],
          "scatterpolar": [
           {
            "marker": {
             "colorbar": {
              "outlinewidth": 1,
              "tickcolor": "rgb(36,36,36)",
              "ticks": "outside"
             }
            },
            "type": "scatterpolar"
           }
          ],
          "scatterpolargl": [
           {
            "marker": {
             "colorbar": {
              "outlinewidth": 1,
              "tickcolor": "rgb(36,36,36)",
              "ticks": "outside"
             }
            },
            "type": "scatterpolargl"
           }
          ],
          "scatterternary": [
           {
            "marker": {
             "colorbar": {
              "outlinewidth": 1,
              "tickcolor": "rgb(36,36,36)",
              "ticks": "outside"
             }
            },
            "type": "scatterternary"
           }
          ],
          "surface": [
           {
            "colorbar": {
             "outlinewidth": 1,
             "tickcolor": "rgb(36,36,36)",
             "ticks": "outside"
            },
            "colorscale": [
             [
              0,
              "#440154"
             ],
             [
              0.1111111111111111,
              "#482878"
             ],
             [
              0.2222222222222222,
              "#3e4989"
             ],
             [
              0.3333333333333333,
              "#31688e"
             ],
             [
              0.4444444444444444,
              "#26828e"
             ],
             [
              0.5555555555555556,
              "#1f9e89"
             ],
             [
              0.6666666666666666,
              "#35b779"
             ],
             [
              0.7777777777777778,
              "#6ece58"
             ],
             [
              0.8888888888888888,
              "#b5de2b"
             ],
             [
              1,
              "#fde725"
             ]
            ],
            "type": "surface"
           }
          ],
          "table": [
           {
            "cells": {
             "fill": {
              "color": "rgb(237,237,237)"
             },
             "line": {
              "color": "white"
             }
            },
            "header": {
             "fill": {
              "color": "rgb(217,217,217)"
             },
             "line": {
              "color": "white"
             }
            },
            "type": "table"
           }
          ]
         },
         "layout": {
          "annotationdefaults": {
           "arrowhead": 0,
           "arrowwidth": 1
          },
          "autotypenumbers": "strict",
          "coloraxis": {
           "colorbar": {
            "outlinewidth": 1,
            "tickcolor": "rgb(36,36,36)",
            "ticks": "outside"
           }
          },
          "colorscale": {
           "diverging": [
            [
             0,
             "rgb(103,0,31)"
            ],
            [
             0.1,
             "rgb(178,24,43)"
            ],
            [
             0.2,
             "rgb(214,96,77)"
            ],
            [
             0.3,
             "rgb(244,165,130)"
            ],
            [
             0.4,
             "rgb(253,219,199)"
            ],
            [
             0.5,
             "rgb(247,247,247)"
            ],
            [
             0.6,
             "rgb(209,229,240)"
            ],
            [
             0.7,
             "rgb(146,197,222)"
            ],
            [
             0.8,
             "rgb(67,147,195)"
            ],
            [
             0.9,
             "rgb(33,102,172)"
            ],
            [
             1,
             "rgb(5,48,97)"
            ]
           ],
           "sequential": [
            [
             0,
             "#440154"
            ],
            [
             0.1111111111111111,
             "#482878"
            ],
            [
             0.2222222222222222,
             "#3e4989"
            ],
            [
             0.3333333333333333,
             "#31688e"
            ],
            [
             0.4444444444444444,
             "#26828e"
            ],
            [
             0.5555555555555556,
             "#1f9e89"
            ],
            [
             0.6666666666666666,
             "#35b779"
            ],
            [
             0.7777777777777778,
             "#6ece58"
            ],
            [
             0.8888888888888888,
             "#b5de2b"
            ],
            [
             1,
             "#fde725"
            ]
           ],
           "sequentialminus": [
            [
             0,
             "#440154"
            ],
            [
             0.1111111111111111,
             "#482878"
            ],
            [
             0.2222222222222222,
             "#3e4989"
            ],
            [
             0.3333333333333333,
             "#31688e"
            ],
            [
             0.4444444444444444,
             "#26828e"
            ],
            [
             0.5555555555555556,
             "#1f9e89"
            ],
            [
             0.6666666666666666,
             "#35b779"
            ],
            [
             0.7777777777777778,
             "#6ece58"
            ],
            [
             0.8888888888888888,
             "#b5de2b"
            ],
            [
             1,
             "#fde725"
            ]
           ]
          },
          "colorway": [
           "#1F77B4",
           "#FF7F0E",
           "#2CA02C",
           "#D62728",
           "#9467BD",
           "#8C564B",
           "#E377C2",
           "#7F7F7F",
           "#BCBD22",
           "#17BECF"
          ],
          "font": {
           "color": "rgb(36,36,36)"
          },
          "geo": {
           "bgcolor": "white",
           "lakecolor": "white",
           "landcolor": "white",
           "showlakes": true,
           "showland": true,
           "subunitcolor": "white"
          },
          "hoverlabel": {
           "align": "left"
          },
          "hovermode": "closest",
          "mapbox": {
           "style": "light"
          },
          "paper_bgcolor": "white",
          "plot_bgcolor": "white",
          "polar": {
           "angularaxis": {
            "gridcolor": "rgb(232,232,232)",
            "linecolor": "rgb(36,36,36)",
            "showgrid": false,
            "showline": true,
            "ticks": "outside"
           },
           "bgcolor": "white",
           "radialaxis": {
            "gridcolor": "rgb(232,232,232)",
            "linecolor": "rgb(36,36,36)",
            "showgrid": false,
            "showline": true,
            "ticks": "outside"
           }
          },
          "scene": {
           "xaxis": {
            "backgroundcolor": "white",
            "gridcolor": "rgb(232,232,232)",
            "gridwidth": 2,
            "linecolor": "rgb(36,36,36)",
            "showbackground": true,
            "showgrid": false,
            "showline": true,
            "ticks": "outside",
            "zeroline": false,
            "zerolinecolor": "rgb(36,36,36)"
           },
           "yaxis": {
            "backgroundcolor": "white",
            "gridcolor": "rgb(232,232,232)",
            "gridwidth": 2,
            "linecolor": "rgb(36,36,36)",
            "showbackground": true,
            "showgrid": false,
            "showline": true,
            "ticks": "outside",
            "zeroline": false,
            "zerolinecolor": "rgb(36,36,36)"
           },
           "zaxis": {
            "backgroundcolor": "white",
            "gridcolor": "rgb(232,232,232)",
            "gridwidth": 2,
            "linecolor": "rgb(36,36,36)",
            "showbackground": true,
            "showgrid": false,
            "showline": true,
            "ticks": "outside",
            "zeroline": false,
            "zerolinecolor": "rgb(36,36,36)"
           }
          },
          "shapedefaults": {
           "fillcolor": "black",
           "line": {
            "width": 0
           },
           "opacity": 0.3
          },
          "ternary": {
           "aaxis": {
            "gridcolor": "rgb(232,232,232)",
            "linecolor": "rgb(36,36,36)",
            "showgrid": false,
            "showline": true,
            "ticks": "outside"
           },
           "baxis": {
            "gridcolor": "rgb(232,232,232)",
            "linecolor": "rgb(36,36,36)",
            "showgrid": false,
            "showline": true,
            "ticks": "outside"
           },
           "bgcolor": "white",
           "caxis": {
            "gridcolor": "rgb(232,232,232)",
            "linecolor": "rgb(36,36,36)",
            "showgrid": false,
            "showline": true,
            "ticks": "outside"
           }
          },
          "title": {
           "x": 0.05
          },
          "xaxis": {
           "automargin": true,
           "gridcolor": "rgb(232,232,232)",
           "linecolor": "rgb(36,36,36)",
           "showgrid": false,
           "showline": true,
           "ticks": "outside",
           "title": {
            "standoff": 15
           },
           "zeroline": false,
           "zerolinecolor": "rgb(36,36,36)"
          },
          "yaxis": {
           "automargin": true,
           "gridcolor": "rgb(232,232,232)",
           "linecolor": "rgb(36,36,36)",
           "showgrid": false,
           "showline": true,
           "ticks": "outside",
           "title": {
            "standoff": 15
           },
           "zeroline": false,
           "zerolinecolor": "rgb(36,36,36)"
          }
         }
        },
        "title": {
         "text": "Crime Rate in India (2016-2017)"
        },
        "width": 1000,
        "xaxis": {
         "anchor": "y",
         "domain": [
          0,
          0.7363
         ],
         "title": {
          "text": "2017"
         }
        },
        "xaxis2": {
         "anchor": "y2",
         "domain": [
          0.7413,
          1
         ],
         "matches": "x2",
         "showline": false,
         "showticklabels": false,
         "ticks": ""
        },
        "xaxis3": {
         "anchor": "y3",
         "domain": [
          0,
          0.7363
         ],
         "matches": "x",
         "showticklabels": false
        },
        "xaxis4": {
         "anchor": "y4",
         "domain": [
          0.7413,
          1
         ],
         "matches": "x2",
         "showline": false,
         "showticklabels": false,
         "ticks": ""
        },
        "yaxis": {
         "anchor": "x",
         "domain": [
          0,
          0.7326
         ],
         "title": {
          "text": "2016"
         }
        },
        "yaxis2": {
         "anchor": "x2",
         "domain": [
          0,
          0.7326
         ],
         "matches": "y",
         "showticklabels": false
        },
        "yaxis3": {
         "anchor": "x3",
         "domain": [
          0.7426,
          1
         ],
         "matches": "y3",
         "showline": false,
         "showticklabels": false,
         "ticks": ""
        },
        "yaxis4": {
         "anchor": "x4",
         "domain": [
          0.7426,
          1
         ],
         "matches": "y3",
         "showline": false,
         "showticklabels": false,
         "ticks": ""
        }
       }
      }
     },
     "metadata": {},
     "output_type": "display_data"
    }
   ],
   "source": [
    "import plotly.express as px\n",
    "import pandas as pd\n",
    "df = pd.read_csv('https://raw.githubusercontent.com/abhay-lal/18CSE301J-RA2011003010014/master/yearlycrime.csv')\n",
    "fig = px.scatter(df, x=\"2017\", y=\"2016\", color=\"State/UT\", marginal_y=\"violin\",\n",
    "           marginal_x=\"box\", trendline=\"ols\", template=\"simple_white\", width=1000, height=600, title=\"Crime Rate in India (2016-2017)\")\n",
    "fig.update_traces(marker=dict(size=16,\n",
    "                              line=dict(width=1,\n",
    "                                        color='DarkSlateGrey')),\n",
    "                  selector=dict(mode='markers'))\n",
    "\n",
    "fig.update_layout(\n",
    "    paper_bgcolor=\"LightSteelBlue\",\n",
    ")\n",
    "\n",
    "fig.show()"
   ]
  },
  {
   "cell_type": "code",
   "execution_count": 3,
   "id": "bc8f3f69",
   "metadata": {},
   "outputs": [],
   "source": [
    "# save plotly to html\n",
    "fig.write_html(\"plotly.html\")"
   ]
  },
  {
   "cell_type": "code",
   "execution_count": null,
   "id": "2d6649f9",
   "metadata": {},
   "outputs": [],
   "source": []
  }
 ],
 "metadata": {
  "kernelspec": {
   "display_name": "Python 3 (ipykernel)",
   "language": "python",
   "name": "python3"
  },
  "language_info": {
   "codemirror_mode": {
    "name": "ipython",
    "version": 3
   },
   "file_extension": ".py",
   "mimetype": "text/x-python",
   "name": "python",
   "nbconvert_exporter": "python",
   "pygments_lexer": "ipython3",
   "version": "3.10.10"
  }
 },
 "nbformat": 4,
 "nbformat_minor": 5
}
